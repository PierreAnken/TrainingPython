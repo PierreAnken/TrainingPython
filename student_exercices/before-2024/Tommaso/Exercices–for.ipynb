{
 "cells": [
  {
   "attachments": {
    "resEx1.png": {
     "image/png": "[encoded data removed]"
    },
    "resEx1_bis.png": {
     "image/png": "[encoded data removed]"
    }
   },
   "cell_type": "markdown",
   "metadata": {},
   "source": [
    "![Exercices obligatoires](images/obligatoire.jpg)\n",
    "\n",
    "-----\n",
    "## Exercice 1 : Deux boucles\n",
    "Le programme suivant :\n",
    "```python\n",
    "                                        for i in range(3):\n",
    "                                            print(\"a\")\n",
    "                                        for j in range(3):\n",
    "                                            print(\"b\")\n",
    "```\n",
    "affiche ceci : ![resEx1.png](attachment:resEx1.png)\n",
    "Modifier le programme précédent pour faire afficher : ![resEx1_bis.png](attachment:resEx1_bis.png)"
   ]
  },
  {
   "cell_type": "code",
   "execution_count": 1,
   "metadata": {},
   "outputs": [
    {
     "name": "stdout",
     "output_type": "stream",
     "text": [
      "a\n",
      "b\n",
      "b\n",
      "b\n",
      "a\n",
      "b\n",
      "b\n",
      "b\n",
      "a\n",
      "b\n",
      "b\n",
      "b\n"
     ]
    }
   ],
   "source": [
    "for i in range(3):\n",
    "    print(\"a\")\n",
    "    for j in range(3):\n",
    "        print(\"b\")"
   ]
  },
  {
   "cell_type": "markdown",
   "metadata": {},
   "source": [
    "-----\n",
    "## Exercice 2 : La somme fixe\n",
    "On souhaite réaliser la somme des nombres de 1 à 10. Pourquoi le programme ci-dessous ne donne pas le bon résultat ?  \n",
    "Corriger le programme pour faire afficher le résultat correct."
   ]
  },
  {
   "cell_type": "code",
   "execution_count": 1,
   "metadata": {
    "scrolled": true
   },
   "outputs": [
    {
     "name": "stdout",
     "output_type": "stream",
     "text": [
      "i= 1 Somme = 1\n",
      "i= 2 Somme = 3\n",
      "i= 3 Somme = 6\n",
      "i= 4 Somme = 10\n",
      "i= 5 Somme = 15\n",
      "i= 6 Somme = 21\n",
      "i= 7 Somme = 28\n",
      "i= 8 Somme = 36\n",
      "i= 9 Somme = 45\n",
      "i= 10 Somme = 55\n",
      "Somme = 55\n"
     ]
    }
   ],
   "source": [
    "somme = 0\n",
    "for i in range(1,11):\n",
    "    somme = somme + i\n",
    "    print(\"i=\", i, \"Somme =\", somme)\n",
    "print(\"Somme =\",somme)"
   ]
  },
  {
   "cell_type": "markdown",
   "metadata": {},
   "source": [
    "-----\n",
    "## Exercice 3 : Initialisation\n",
    "Écrire une fonction qui renvoie une liste de nombres allant de 0 à 1000."
   ]
  },
  {
   "cell_type": "code",
   "execution_count": 2,
   "metadata": {},
   "outputs": [
    {
     "name": "stdout",
     "output_type": "stream",
     "text": [
      "[0, 1, 2, 3, 4, 5, 6, 7, 8, 9, 10, 11, 12, 13, 14, 15, 16, 17, 18, 19, 20, 21, 22, 23, 24, 25, 26, 27, 28, 29, 30, 31, 32, 33, 34, 35, 36, 37, 38, 39, 40, 41, 42, 43, 44, 45, 46, 47, 48, 49, 50, 51, 52, 53, 54, 55, 56, 57, 58, 59, 60, 61, 62, 63, 64, 65, 66, 67, 68, 69, 70, 71, 72, 73, 74, 75, 76, 77, 78, 79, 80, 81, 82, 83, 84, 85, 86, 87, 88, 89, 90, 91, 92, 93, 94, 95, 96, 97, 98, 99, 100, 101, 102, 103, 104, 105, 106, 107, 108, 109, 110, 111, 112, 113, 114, 115, 116, 117, 118, 119, 120, 121, 122, 123, 124, 125, 126, 127, 128, 129, 130, 131, 132, 133, 134, 135, 136, 137, 138, 139, 140, 141, 142, 143, 144, 145, 146, 147, 148, 149, 150, 151, 152, 153, 154, 155, 156, 157, 158, 159, 160, 161, 162, 163, 164, 165, 166, 167, 168, 169, 170, 171, 172, 173, 174, 175, 176, 177, 178, 179, 180, 181, 182, 183, 184, 185, 186, 187, 188, 189, 190, 191, 192, 193, 194, 195, 196, 197, 198, 199, 200, 201, 202, 203, 204, 205, 206, 207, 208, 209, 210, 211, 212, 213, 214, 215, 216, 217, 218, 219, 220, 221, 222, 223, 224, 225, 226, 227, 228, 229, 230, 231, 232, 233, 234, 235, 236, 237, 238, 239, 240, 241, 242, 243, 244, 245, 246, 247, 248, 249, 250, 251, 252, 253, 254, 255, 256, 257, 258, 259, 260, 261, 262, 263, 264, 265, 266, 267, 268, 269, 270, 271, 272, 273, 274, 275, 276, 277, 278, 279, 280, 281, 282, 283, 284, 285, 286, 287, 288, 289, 290, 291, 292, 293, 294, 295, 296, 297, 298, 299, 300, 301, 302, 303, 304, 305, 306, 307, 308, 309, 310, 311, 312, 313, 314, 315, 316, 317, 318, 319, 320, 321, 322, 323, 324, 325, 326, 327, 328, 329, 330, 331, 332, 333, 334, 335, 336, 337, 338, 339, 340, 341, 342, 343, 344, 345, 346, 347, 348, 349, 350, 351, 352, 353, 354, 355, 356, 357, 358, 359, 360, 361, 362, 363, 364, 365, 366, 367, 368, 369, 370, 371, 372, 373, 374, 375, 376, 377, 378, 379, 380, 381, 382, 383, 384, 385, 386, 387, 388, 389, 390, 391, 392, 393, 394, 395, 396, 397, 398, 399, 400, 401, 402, 403, 404, 405, 406, 407, 408, 409, 410, 411, 412, 413, 414, 415, 416, 417, 418, 419, 420, 421, 422, 423, 424, 425, 426, 427, 428, 429, 430, 431, 432, 433, 434, 435, 436, 437, 438, 439, 440, 441, 442, 443, 444, 445, 446, 447, 448, 449, 450, 451, 452, 453, 454, 455, 456, 457, 458, 459, 460, 461, 462, 463, 464, 465, 466, 467, 468, 469, 470, 471, 472, 473, 474, 475, 476, 477, 478, 479, 480, 481, 482, 483, 484, 485, 486, 487, 488, 489, 490, 491, 492, 493, 494, 495, 496, 497, 498, 499, 500, 501, 502, 503, 504, 505, 506, 507, 508, 509, 510, 511, 512, 513, 514, 515, 516, 517, 518, 519, 520, 521, 522, 523, 524, 525, 526, 527, 528, 529, 530, 531, 532, 533, 534, 535, 536, 537, 538, 539, 540, 541, 542, 543, 544, 545, 546, 547, 548, 549, 550, 551, 552, 553, 554, 555, 556, 557, 558, 559, 560, 561, 562, 563, 564, 565, 566, 567, 568, 569, 570, 571, 572, 573, 574, 575, 576, 577, 578, 579, 580, 581, 582, 583, 584, 585, 586, 587, 588, 589, 590, 591, 592, 593, 594, 595, 596, 597, 598, 599, 600, 601, 602, 603, 604, 605, 606, 607, 608, 609, 610, 611, 612, 613, 614, 615, 616, 617, 618, 619, 620, 621, 622, 623, 624, 625, 626, 627, 628, 629, 630, 631, 632, 633, 634, 635, 636, 637, 638, 639, 640, 641, 642, 643, 644, 645, 646, 647, 648, 649, 650, 651, 652, 653, 654, 655, 656, 657, 658, 659, 660, 661, 662, 663, 664, 665, 666, 667, 668, 669, 670, 671, 672, 673, 674, 675, 676, 677, 678, 679, 680, 681, 682, 683, 684, 685, 686, 687, 688, 689, 690, 691, 692, 693, 694, 695, 696, 697, 698, 699, 700, 701, 702, 703, 704, 705, 706, 707, 708, 709, 710, 711, 712, 713, 714, 715, 716, 717, 718, 719, 720, 721, 722, 723, 724, 725, 726, 727, 728, 729, 730, 731, 732, 733, 734, 735, 736, 737, 738, 739, 740, 741, 742, 743, 744, 745, 746, 747, 748, 749, 750, 751, 752, 753, 754, 755, 756, 757, 758, 759, 760, 761, 762, 763, 764, 765, 766, 767, 768, 769, 770, 771, 772, 773, 774, 775, 776, 777, 778, 779, 780, 781, 782, 783, 784, 785, 786, 787, 788, 789, 790, 791, 792, 793, 794, 795, 796, 797, 798, 799, 800, 801, 802, 803, 804, 805, 806, 807, 808, 809, 810, 811, 812, 813, 814, 815, 816, 817, 818, 819, 820, 821, 822, 823, 824, 825, 826, 827, 828, 829, 830, 831, 832, 833, 834, 835, 836, 837, 838, 839, 840, 841, 842, 843, 844, 845, 846, 847, 848, 849, 850, 851, 852, 853, 854, 855, 856, 857, 858, 859, 860, 861, 862, 863, 864, 865, 866, 867, 868, 869, 870, 871, 872, 873, 874, 875, 876, 877, 878, 879, 880, 881, 882, 883, 884, 885, 886, 887, 888, 889, 890, 891, 892, 893, 894, 895, 896, 897, 898, 899, 900, 901, 902, 903, 904, 905, 906, 907, 908, 909, 910, 911, 912, 913, 914, 915, 916, 917, 918, 919, 920, 921, 922, 923, 924, 925, 926, 927, 928, 929, 930, 931, 932, 933, 934, 935, 936, 937, 938, 939, 940, 941, 942, 943, 944, 945, 946, 947, 948, 949, 950, 951, 952, 953, 954, 955, 956, 957, 958, 959, 960, 961, 962, 963, 964, 965, 966, 967, 968, 969, 970, 971, 972, 973, 974, 975, 976, 977, 978, 979, 980, 981, 982, 983, 984, 985, 986, 987, 988, 989, 990, 991, 992, 993, 994, 995, 996, 997, 998, 999, 1000]\n"
     ]
    }
   ],
   "source": [
    "maListe = list(range(0,1001))\n",
    "print(maListe)"
   ]
  },
  {
   "cell_type": "markdown",
   "metadata": {},
   "source": [
    "-----\n",
    "## Exercice 4 : Les tables de multiplication\n",
    "Écrire un programme qui affiche toutes les tables de multiplication (de 1 à 10), n'utilisant que des boucles `for`.\n"
   ]
  },
  {
   "cell_type": "code",
   "execution_count": 10,
   "metadata": {},
   "outputs": [
    {
     "name": "stdout",
     "output_type": "stream",
     "text": [
      "1 * 1 = 1\n",
      "1 * 2 = 2\n",
      "1 * 3 = 3\n",
      "1 * 4 = 4\n",
      "1 * 5 = 5\n",
      "1 * 6 = 6\n",
      "1 * 7 = 7\n",
      "1 * 8 = 8\n",
      "1 * 9 = 9\n",
      "1 * 10 = 10\n",
      "2 * 1 = 2\n",
      "2 * 2 = 4\n",
      "2 * 3 = 6\n",
      "2 * 4 = 8\n",
      "2 * 5 = 10\n",
      "2 * 6 = 12\n",
      "2 * 7 = 14\n",
      "2 * 8 = 16\n",
      "2 * 9 = 18\n",
      "2 * 10 = 20\n",
      "3 * 1 = 3\n",
      "3 * 2 = 6\n",
      "3 * 3 = 9\n",
      "3 * 4 = 12\n",
      "3 * 5 = 15\n",
      "3 * 6 = 18\n",
      "3 * 7 = 21\n",
      "3 * 8 = 24\n",
      "3 * 9 = 27\n",
      "3 * 10 = 30\n",
      "4 * 1 = 4\n",
      "4 * 2 = 8\n",
      "4 * 3 = 12\n",
      "4 * 4 = 16\n",
      "4 * 5 = 20\n",
      "4 * 6 = 24\n",
      "4 * 7 = 28\n",
      "4 * 8 = 32\n",
      "4 * 9 = 36\n",
      "4 * 10 = 40\n",
      "5 * 1 = 5\n",
      "5 * 2 = 10\n",
      "5 * 3 = 15\n",
      "5 * 4 = 20\n",
      "5 * 5 = 25\n",
      "5 * 6 = 30\n",
      "5 * 7 = 35\n",
      "5 * 8 = 40\n",
      "5 * 9 = 45\n",
      "5 * 10 = 50\n",
      "6 * 1 = 6\n",
      "6 * 2 = 12\n",
      "6 * 3 = 18\n",
      "6 * 4 = 24\n",
      "6 * 5 = 30\n",
      "6 * 6 = 36\n",
      "6 * 7 = 42\n",
      "6 * 8 = 48\n",
      "6 * 9 = 54\n",
      "6 * 10 = 60\n",
      "7 * 1 = 7\n",
      "7 * 2 = 14\n",
      "7 * 3 = 21\n",
      "7 * 4 = 28\n",
      "7 * 5 = 35\n",
      "7 * 6 = 42\n",
      "7 * 7 = 49\n",
      "7 * 8 = 56\n",
      "7 * 9 = 63\n",
      "7 * 10 = 70\n",
      "8 * 1 = 8\n",
      "8 * 2 = 16\n",
      "8 * 3 = 24\n",
      "8 * 4 = 32\n",
      "8 * 5 = 40\n",
      "8 * 6 = 48\n",
      "8 * 7 = 56\n",
      "8 * 8 = 64\n",
      "8 * 9 = 72\n",
      "8 * 10 = 80\n",
      "9 * 1 = 9\n",
      "9 * 2 = 18\n",
      "9 * 3 = 27\n",
      "9 * 4 = 36\n",
      "9 * 5 = 45\n",
      "9 * 6 = 54\n",
      "9 * 7 = 63\n",
      "9 * 8 = 72\n",
      "9 * 9 = 81\n",
      "9 * 10 = 90\n",
      "10 * 1 = 10\n",
      "10 * 2 = 20\n",
      "10 * 3 = 30\n",
      "10 * 4 = 40\n",
      "10 * 5 = 50\n",
      "10 * 6 = 60\n",
      "10 * 7 = 70\n",
      "10 * 8 = 80\n",
      "10 * 9 = 90\n",
      "10 * 10 = 100\n"
     ]
    }
   ],
   "source": [
    "for i in list(range(1,11)):\n",
    "    for a in list(range(1,11)):\n",
    "        print(i ,\"*\", a, \"=\", i * a)"
   ]
  },
  {
   "cell_type": "markdown",
   "metadata": {},
   "source": [
    "-----\n",
    "## Exercice 5 : La moyenne\n",
    "Écrire un programme qui calcule la moyenne d'une série de 5 notes entrées par l'utilisateur. On pourra utiliser une variable qui contient la somme intermédiaire des notes."
   ]
  },
  {
   "cell_type": "code",
   "execution_count": 2,
   "metadata": {},
   "outputs": [
    {
     "name": "stdout",
     "output_type": "stream",
     "text": [
      "[5.0, 5.2, 5.4, 5.6, 5.8]\n",
      "5.4\n"
     ]
    }
   ],
   "source": [
    "liste = []\n",
    "for _ in range(5):\n",
    "    liste.append(float(input(\"Entrer une note : \")))\n",
    "\n",
    "print(liste)\n",
    "\n",
    "m = sum(liste)/len(liste)\n",
    "print(m)\n"
   ]
  },
  {
   "cell_type": "markdown",
   "metadata": {},
   "source": [
    "-----\n",
    "## Exercice 6 : Prénoms en série\n",
    "Dans un conte américain, huit petits canetons s'appellent respectivement : *Jack*, *Kack*, *Lack*, *Mack*, *Nack*, *Oack*, *Pack* et *Qack*. Écrire un programme qui génère tous ces noms à partir des deux chaînes suivantes : `prefixes = 'JKLMNOP'` et `suffixe = 'ack'`.  "
   ]
  },
  {
   "cell_type": "code",
   "execution_count": 4,
   "metadata": {},
   "outputs": [
    {
     "name": "stdout",
     "output_type": "stream",
     "text": [
      "Jack\n",
      "Kack\n",
      "Lack\n",
      "Mack\n",
      "Nack\n",
      "Oack\n",
      "Pack\n"
     ]
    }
   ],
   "source": [
    "prefixes = 'JKLMNOP'\n",
    "suffixe = 'ack'\n",
    "names = []\n",
    "\n",
    "for p in prefixes:\n",
    "    print(p,suffixe, sep='')\n"
   ]
  },
  {
   "cell_type": "markdown",
   "metadata": {},
   "source": [
    "*Indice1* : Si vous utilisez une instruction `for ... in ...`, votre programme ne devrait comporter que 2 lignes.  \n",
    "*Indice2* : L'option `sep=\"\"` comme paramètre de la fonction `print()` permet de supprimer l'espace qui est ajouté par défaut entre 2 chaînes de caractères placées en paramètre. Voici un exemple :\n",
    "```python\n",
    "print(\"Py\",\"thon\")         # affiche Py Thon\n",
    "print(\"Py\",\"thon\",sep=\"\")  # affiche Python\n",
    "```"
   ]
  },
  {
   "cell_type": "markdown",
   "metadata": {},
   "source": [
    "-----\n",
    "## Exercice 7 : La vraie copie\n",
    "Créer une liste `A` contenant quelques éléments. Copier cette dernière dans une nouvelle liste `B`. Pour vérifier si votre copie est \"vraie\", modifiez une valeur de `A` et regardez si les valeurs de `B` restent inchangées.  \n",
    "L'objectif de cet exercice est de créer une vraie copie."
   ]
  },
  {
   "cell_type": "code",
   "execution_count": 9,
   "metadata": {},
   "outputs": [
    {
     "name": "stdout",
     "output_type": "stream",
     "text": [
      "[0, 1, 'y', 3, 4] [0, 1, 'x', 3, 4]\n"
     ]
    }
   ],
   "source": [
    "a = list(range(5))\n",
    "b = []\n",
    "for value in a:\n",
    "   b.append(value)\n",
    "\n",
    "a[2] = 'y'\n",
    "b[2] = 'x'\n",
    "print(a,b)"
   ]
  },
  {
   "cell_type": "markdown",
   "metadata": {},
   "source": [
    "*Suggestion* : créer d'abord une liste `B` de même taille que `A` mais ne contenant que des zéros. Remplacer ensuite tous ces zéros par les éléments provenant de `A`."
   ]
  },
  {
   "cell_type": "markdown",
   "metadata": {},
   "source": [
    "-----\n",
    "## Exercice 8 : Mélange de listes\n",
    "Soit les listes suivantes :  \n",
    "`nbJours = [31, 28, 31, 30, 31, 30, 31, 31, 30, 31, 30, 31]`  \n",
    "`mois = [\"janvier\", \"février\", \"mars\", \"avril\", \"mai\", \"juin\", \"juillet\", \"août\",\"septembre\",\"octobre\",\"novembre\",\"décembre\"]`  \n",
    "Écrire un petit programme qui insère dans la seconde liste tous les éléments de la première, de telle sorte que chaque nom de mois soit suivi du nombre de jours correspondant : `[\"janvier\",31, \"février\", 28, \"mars\", 31, etc.]`."
   ]
  },
  {
   "cell_type": "code",
   "execution_count": 15,
   "metadata": {},
   "outputs": [
    {
     "name": "stdout",
     "output_type": "stream",
     "text": [
      "['janvier', 31, 'février', 28, 'mars', 31, 'avril', 30, 'mai', 31, 'juin', 30, 'juillet', 31, 'août', 31, 'septembre', 30, 'octobre', 31, 'novembre', 30, 'décembre', 31]\n",
      "['janvier', 31, 'février', 28, 'mars', 31, 'avril', 30, 'mai', 31, 'juin', 30, 'juillet', 31, 'août', 31, 'septembre', 30, 'octobre', 31, 'novembre', 30, 'décembre', 31]\n"
     ]
    }
   ],
   "source": [
    "nbJours = [31, 28, 31, 30, 31, 30, 31, 31, 30, 31, 30, 31]\n",
    "mois = [\"janvier\", \"février\", \"mars\", \"avril\", \"mai\", \"juin\", \"juillet\", \"août\",\"septembre\",\"octobre\",\"novembre\",\"décembre\"]\n",
    "\n",
    "# version 1\n",
    "liste_jours_mois_1 = []\n",
    "for nb_jour, mois_v in zip(nbJours, mois):\n",
    "    liste_jours_mois_1 += [mois_v, nb_jour]\n",
    "\n",
    "print(liste_jours_mois_1)\n",
    "\n",
    "# version 2\n",
    "liste_jours_mois_2 = []\n",
    "\n",
    "for index in range(len(nbJours)):\n",
    "    liste_jours_mois_2.append(mois[index])\n",
    "    liste_jours_mois_2.append(nbJours[index])\n",
    "\n",
    "print(liste_jours_mois_2)\n",
    "\n"
   ]
  },
  {
   "cell_type": "markdown",
   "metadata": {},
   "source": [
    "---\n",
    "---\n",
    "![Exercices bonus](images/bonus.jpg)"
   ]
  },
  {
   "cell_type": "markdown",
   "metadata": {},
   "source": [
    "-----\n",
    "## Exercice 9 : Palindrome\n",
    "Écrire un script qui demande à l'utilisateur de rentrer un mot, puis vérifie si ce mot est un palindrome.  \n",
    "Pour rappel, un palindrome est un mot qui s'écrie de la même manière à l'endroit et à l'envers."
   ]
  },
  {
   "cell_type": "code",
   "execution_count": 17,
   "metadata": {},
   "outputs": [
    {
     "name": "stdout",
     "output_type": "stream",
     "text": [
      "jakgfbdlkafg N'est pas un palindrome\n"
     ]
    }
   ],
   "source": [
    "mot = input('Entrez un mot: ')\n",
    "mot_inverse = mot[::-1]\n",
    "\n",
    "for lettre_1, lettre_2 in zip(mot, mot_inverse):\n",
    "    if lettre_1 != lettre_2:\n",
    "        print(mot, 'n\\'est pas un palindrome')\n",
    "        break\n",
    "else:\n",
    "    print(mot, 'est un palindrome')\n"
   ]
  },
  {
   "attachments": {
    "pyramideNombres.png": {
     "image/png": "[encoded data removed]"
    }
   },
   "cell_type": "markdown",
   "metadata": {},
   "source": [
    "-----\n",
    "## Exercice 10 : Pyramide de nombres\n",
    "À l'aide de boucles `for` écrire un code qui affiche ce qui suit :\n",
    "![pyramideNombres.png](attachment:pyramideNombres.png)\n"
   ]
  },
  {
   "cell_type": "code",
   "execution_count": null,
   "metadata": {},
   "outputs": [],
   "source": [
    "etages = 9\n"
   ]
  }
 ],
 "metadata": {
  "kernelspec": {
   "display_name": "Python 3",
   "language": "python",
   "name": "python3"
  },
  "language_info": {
   "codemirror_mode": {
    "name": "ipython",
    "version": 3
   },
   "file_extension": ".py",
   "mimetype": "text/x-python",
   "name": "python",
   "nbconvert_exporter": "python",
   "pygments_lexer": "ipython3",
   "version": "3.7.0"
  }
 },
 "nbformat": 4,
 "nbformat_minor": 2
}
